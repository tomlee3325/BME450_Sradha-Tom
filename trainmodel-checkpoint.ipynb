{
 "cells": [
  {
   "cell_type": "markdown",
   "id": "86e964e4",
   "metadata": {},
   "source": [
    "Link: youtube.com/watch?v=ZoZHd0Zm3RY"
   ]
  },
  {
   "cell_type": "code",
   "execution_count": 3,
   "id": "c75bf590",
   "metadata": {},
   "outputs": [],
   "source": [
    "#Import Library\n",
    "import torch\n",
    "import torch.nn as nn\n",
    "import torchvision\n",
    "from torchvision import transforms  #https://medium.com/thecyphy/train-cnn-model-with-pytorch-21dafb918f48 \n",
    "from torchvision.datasets import ImageFolder\n",
    "from torch.utils.data import Dataset\n",
    "from torchvision import datasets\n",
    "from torchvision.transforms import ToTensor\n",
    "import matplotlib.pyplot as plt\n"
   ]
  },
  {
   "cell_type": "code",
   "execution_count": null,
   "id": "1354d620",
   "metadata": {},
   "outputs": [],
   "source": [
    "#maybe\n",
    "from torchvision.io import read_image\n",
    "import torch.optim as optim\n",
    "from torch.utils.data import DataLoader #help create mini batches\n",
    "from customData import pneumoniaOrnot"
   ]
  },
  {
   "cell_type": "code",
   "execution_count": null,
   "id": "31014a15",
   "metadata": {},
   "outputs": [],
   "source": [
    "#HyperParameters"
   ]
  },
  {
   "cell_type": "code",
   "execution_count": null,
   "id": "7a13c0c6",
   "metadata": {},
   "outputs": [],
   "source": [
    "#Loading the dataset\n",
    "dataset = pneumoniaOrnot(csv_file = 'pneumoNormal.csv', root_dir = 'pneumonia', transform = transforms.ToTensor()) #Combined dataset\n",
    "#Creating batch\n",
    "train_set, test_set = torch.utils.data.random_split(dataset, [20000, 5000])\n",
    "train_loader = DataLoader(dataset=train_set, batch_size=batch_size, shuffle=True)\n",
    "test_loader = DataLoader(dataset=)"
   ]
  },
  {
   "cell_type": "code",
   "execution_count": null,
   "id": "620c998e",
   "metadata": {},
   "outputs": [],
   "source": [
    "#Model"
   ]
  },
  {
   "cell_type": "code",
   "execution_count": 1,
   "id": "9b71b154",
   "metadata": {},
   "outputs": [],
   "source": [
    "#Loss and Optimizer"
   ]
  },
  {
   "cell_type": "code",
   "execution_count": null,
   "id": "cd9f9232",
   "metadata": {},
   "outputs": [],
   "source": [
    "#Train Network"
   ]
  }
 ],
 "metadata": {
  "kernelspec": {
   "display_name": "Python 3 (ipykernel)",
   "language": "python",
   "name": "python3"
  },
  "language_info": {
   "codemirror_mode": {
    "name": "ipython",
    "version": 3
   },
   "file_extension": ".py",
   "mimetype": "text/x-python",
   "name": "python",
   "nbconvert_exporter": "python",
   "pygments_lexer": "ipython3",
   "version": "3.9.13"
  }
 },
 "nbformat": 4,
 "nbformat_minor": 5
}
